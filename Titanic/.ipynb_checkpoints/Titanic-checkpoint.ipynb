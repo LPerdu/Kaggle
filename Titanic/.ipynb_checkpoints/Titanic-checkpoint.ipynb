{
 "cells": [
  {
   "cell_type": "code",
   "execution_count": 28,
   "metadata": {},
   "outputs": [],
   "source": [
    "import pandas as pd\n",
    "\n",
    "class Titanic:\n",
    "    def __init__(self, filename, uselessfeatures,categoricalfeatures,targetfeature):\n",
    "        self.df = pd.read_csv(filename, delimiter=',')\n",
    "        self.uselessfeatures = uselessfeatures\n",
    "        self.categoricalfeatures = categoricalfeatures\n",
    "        self.targetfeature = targetfeature\n",
    "        \n",
    "    def showtypes(self):\n",
    "        print(self.df.dtypes)\n",
    "        \n",
    "    def missingdata(self):\n",
    "        print(round(self.df.isnull().sum()*100/len(self.df),2).sort_values(ascending=False))\n",
    "        \n",
    "    def dummymaker(self):\n",
    "        for categoricalfeature in self.categoricalfeatures:\n",
    "            encodedfeature = pd.get_dummies(self.df[categoricalfeature],prefix=categoricalfeature,drop_first=True)\n",
    "            self.df = pd.concat([self.df,encodedfeature],axis=1)\n",
    "            self.df.drop([categoricalfeature],axis=1, inplace=True)\n",
    "            \n",
    "    def removeuselessfeatures(self):\n",
    "        for uselessfeature in self.uselessfeatures:\n",
    "            self.df.drop([uselessfeature],axis=1, inplace=True)\n",
    "            \n",
    "    def Xy(self):\n",
    "        y = self.df[self.targetfeature]\n",
    "        X = self.df[self.df.columns.difference([self.targetfeature])]\n",
    "        return X, y\n",
    "    \n",
    "    def X(self):\n",
    "        X = self.df\n",
    "        return X\n",
    "        \n",
    "    def removemissingdata(self):\n",
    "        self.df = self.df.dropna()\n",
    "        \n",
    "    def fillna(self, column):\n",
    "        self.df[column].fillna(self.df[column].mean(), inplace = True) \n",
    "        \n",
    "    def showpassenger(self, i):\n",
    "        print(self.df.iloc[i])\n",
    "             \n",
    "        \n",
    "        "
   ]
  },
  {
   "cell_type": "code",
   "execution_count": 29,
   "metadata": {},
   "outputs": [
    {
     "name": "stdout",
     "output_type": "stream",
     "text": [
      "Cabin          77.10\n",
      "Age            19.87\n",
      "Embarked        0.22\n",
      "Fare            0.00\n",
      "Ticket          0.00\n",
      "Parch           0.00\n",
      "SibSp           0.00\n",
      "Sex             0.00\n",
      "Name            0.00\n",
      "Pclass          0.00\n",
      "Survived        0.00\n",
      "PassengerId     0.00\n",
      "dtype: float64\n"
     ]
    }
   ],
   "source": [
    "titanictrain = Titanic(filename = \"train.csv\", uselessfeatures = ['Name','Ticket','PassengerId','Cabin'], categoricalfeatures = ['Sex','Pclass','Embarked'], targetfeature = 'Survived')\n",
    "\n",
    "#titanictrain.showtypes()\n",
    "titanictrain.missingdata()\n",
    "titanictrain.dummymaker()\n",
    "titanictrain.removeuselessfeatures()\n",
    "titanictrain.fillna(\"Age\")\n",
    "titanictrain.removemissingdata()\n",
    "#titanictrain.showpassenger(15)\n",
    "X, y = titanictrain.Xy()"
   ]
  },
  {
   "cell_type": "code",
   "execution_count": 30,
   "metadata": {},
   "outputs": [],
   "source": [
    "from sklearn.model_selection import train_test_split\n",
    "\n",
    "Xtrain, Xtest, ytrain, ytest = train_test_split(X, y, stratify=y, test_size=0.3, random_state=100)"
   ]
  },
  {
   "cell_type": "code",
   "execution_count": 31,
   "metadata": {},
   "outputs": [
    {
     "name": "stdout",
     "output_type": "stream",
     "text": [
      "0.7126865671641791\n",
      "0.7873134328358209\n",
      "0.7126865671641791\n"
     ]
    }
   ],
   "source": [
    "from sklearn import svm\n",
    "clf = svm.SVC()\n",
    "clf.fit(Xtrain, ytrain)\n",
    "print(clf.score(Xtest, ytest))\n",
    "\n",
    "from sklearn.naive_bayes import GaussianNB\n",
    "clf = GaussianNB()\n",
    "clf.fit(Xtrain, ytrain)\n",
    "print(clf.score(Xtest, ytest))"
   ]
  },
  {
   "cell_type": "code",
   "execution_count": 34,
   "metadata": {},
   "outputs": [
    {
     "name": "stdout",
     "output_type": "stream",
     "text": [
      "Embarked_S    0.0\n",
      "Embarked_Q    0.0\n",
      "Pclass_3      0.0\n",
      "Pclass_2      0.0\n",
      "Sex_male      0.0\n",
      "Fare          0.0\n",
      "Parch         0.0\n",
      "SibSp         0.0\n",
      "Age           0.0\n",
      "dtype: float64\n"
     ]
    }
   ],
   "source": [
    "titanictest = Titanic(filename = \"test.csv\", uselessfeatures = ['Name','Ticket','PassengerId','Cabin'], categoricalfeatures = ['Sex','Pclass','Embarked'], targetfeature = None)\n",
    "\n",
    "dfpassengerid = titanictest.df['PassengerId']\n",
    "#titanictest.showtypes()\n",
    "titanictest.fillna(\"Age\")\n",
    "titanictest.fillna(\"Fare\")\n",
    "titanictest.removeuselessfeatures()\n",
    "titanictest.dummymaker()\n",
    "#titanictest.missingdata()\n",
    "Xtest = titanictest.X()\n",
    "ypred = clf.predict(Xtest)\n",
    "\n",
    "dfypred = pd.DataFrame({'Survived': ypred})\n",
    "dfsubmission = pd.concat([dfpassengerid,dfypred],axis=1)\n",
    "dfsubmission.to_csv('out.csv', index = False)\n"
   ]
  },
  {
   "cell_type": "code",
   "execution_count": null,
   "metadata": {},
   "outputs": [],
   "source": []
  }
 ],
 "metadata": {
  "kernelspec": {
   "display_name": "Python 3",
   "language": "python",
   "name": "python3"
  },
  "language_info": {
   "codemirror_mode": {
    "name": "ipython",
    "version": 3
   },
   "file_extension": ".py",
   "mimetype": "text/x-python",
   "name": "python",
   "nbconvert_exporter": "python",
   "pygments_lexer": "ipython3",
   "version": "3.8.3"
  }
 },
 "nbformat": 4,
 "nbformat_minor": 4
}
