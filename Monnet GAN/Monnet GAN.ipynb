{
 "cells": [
  {
   "cell_type": "markdown",
   "metadata": {},
   "source": [
    "# Monnet GAN"
   ]
  },
  {
   "cell_type": "markdown",
   "metadata": {},
   "source": [
    "## Data loading"
   ]
  },
  {
   "cell_type": "code",
   "execution_count": 40,
   "metadata": {},
   "outputs": [],
   "source": [
    "import cv2\n",
    "import os\n",
    "import skimage.transform as st\n",
    "import numpy as np\n",
    "\n",
    "def load_images_from_folder(folder):\n",
    "    images = []\n",
    "    for filename in os.listdir(folder):\n",
    "        img = cv2.imread(os.path.join(folder,filename))\n",
    "        if img is not None:\n",
    "            images.append(img)\n",
    "    return images"
   ]
  },
  {
   "cell_type": "markdown",
   "metadata": {},
   "source": [
    "### Paintings"
   ]
  },
  {
   "cell_type": "code",
   "execution_count": 41,
   "metadata": {},
   "outputs": [
    {
     "name": "stdout",
     "output_type": "stream",
     "text": [
      "Number of Monnet paintings loaded : 300\n",
      "Shape of a Monnet painting : (256, 256, 3)\n",
      "Number of elements per painting : 196608\n",
      "(256, 256, 3)\n",
      "(56, 56, 3)\n"
     ]
    }
   ],
   "source": [
    "# Loading of the Monnet paintings\n",
    "current_working_directory = os.getcwd()\n",
    "monnet_images_path = current_working_directory + \"/monet_jpg\"\n",
    "monnet_images = load_images_from_folder(monnet_images_path)\n",
    "print(\"Number of Monnet paintings loaded : {}\".format(len(monnet_images)))\n",
    "print(\"Shape of a Monnet painting : {}\".format(monnet_images[0].shape))\n",
    "print(\"Number of elements per painting : {}\".format(monnet_images[0].shape[0]*monnet_images[0].shape[1]*monnet_images[0].shape[2]))\n",
    "\n",
    "monnet_images = np.array(monnet_images)\n",
    "print(monnet_images[0].shape)\n",
    "monnet_images = st.resize(monnet_images, (300, 56, 56, 3))\n",
    "print(monnet_images[0].shape)\n",
    "\n",
    "input_size = monnet_images[0].shape[0]*monnet_images[0].shape[1]*monnet_images[0].shape[2]"
   ]
  },
  {
   "cell_type": "markdown",
   "metadata": {},
   "source": [
    "### Photos"
   ]
  },
  {
   "cell_type": "code",
   "execution_count": 42,
   "metadata": {},
   "outputs": [
    {
     "name": "stdout",
     "output_type": "stream",
     "text": [
      "Number of photos loaded : 7038\n",
      "Shape of a photo : (256, 256, 3)\n",
      "Number of elements per photo : 196608\n",
      "(256, 256, 3)\n",
      "(56, 56, 3)\n"
     ]
    }
   ],
   "source": [
    "# Loading of the Monnet paintings\n",
    "current_working_directory = os.getcwd()\n",
    "photo_images_path = current_working_directory + \"/photo_jpg\"\n",
    "photo_images = load_images_from_folder(photo_images_path)\n",
    "print(\"Number of photos loaded : {}\".format(len(photo_images)))\n",
    "print(\"Shape of a photo : {}\".format(photo_images[0].shape))\n",
    "print(\"Number of elements per photo : {}\".format(photo_images[0].shape[0]*photo_images[0].shape[1]*photo_images[0].shape[2]))\n",
    "\n",
    "\n",
    "photo_images = photo_images[:300]\n",
    "\n",
    "photo_images = np.array(photo_images)\n",
    "\n",
    "print(photo_images[0].shape)\n",
    "photo_images = st.resize(photo_images, (300, 56, 56, 3))\n",
    "print(photo_images[0].shape)\n",
    "\n",
    "input_size = photo_images[0].shape[0]*photo_images[0].shape[1]*photo_images[0].shape[2]"
   ]
  },
  {
   "cell_type": "markdown",
   "metadata": {},
   "source": [
    "### Visualization"
   ]
  },
  {
   "cell_type": "code",
   "execution_count": 43,
   "metadata": {},
   "outputs": [
    {
     "name": "stdout",
     "output_type": "stream",
     "text": [
      "(56, 56, 3)\n"
     ]
    },
    {
     "data": {
      "image/png": "[encoded data removed]",
      "text/plain": [
       "<Figure size 432x288 with 1 Axes>"
      ]
     },
     "metadata": {
      "needs_background": "light"
     },
     "output_type": "display_data"
    },
    {
     "data": {
      "image/png": "[encoded data removed]",
      "text/plain": [
       "<Figure size 432x288 with 1 Axes>"
      ]
     },
     "metadata": {
      "needs_background": "light"
     },
     "output_type": "display_data"
    }
   ],
   "source": [
    "import matplotlib.pyplot as plt \n",
    "\n",
    "# Painting display\n",
    "def display_painting(image):\n",
    "    plt.figure()\n",
    "    plt.imshow(cv2.cvtColor(image, cv2.COLOR_BGR2RGB))\n",
    "    plt.axis(\"off\")\n",
    "    plt.show()\n",
    "    \n",
    "print(monnet_images[0].shape)\n",
    "display_painting(monnet_images[0].astype('float32'))\n",
    "display_painting(photo_images[1].astype('float32'))"
   ]
  },
  {
   "cell_type": "markdown",
   "metadata": {},
   "source": [
    "## GAN"
   ]
  },
  {
   "cell_type": "code",
   "execution_count": 44,
   "metadata": {},
   "outputs": [],
   "source": [
    "import torch.nn as nn\n",
    "import torch\n",
    "import tensorflow as tf\n",
    "from torchvision import transforms\n",
    "\n",
    "class Discriminator(nn.Module):\n",
    "    def __init__(self):\n",
    "        super().__init__()\n",
    "        self.model = nn.Sequential(\n",
    "            nn.Linear(input_size, 2048),\n",
    "            nn.LeakyReLU(0.2, inplace=True),\n",
    "            nn.Dropout(0.3),\n",
    "            nn.Linear(2048, 1024),\n",
    "            nn.LeakyReLU(0.2, inplace=True),\n",
    "            nn.Dropout(0.3),\n",
    "            nn.Linear(1024, 512),\n",
    "            nn.LeakyReLU(0.2, inplace=True),\n",
    "            nn.Dropout(0.3),\n",
    "            nn.Linear(512, 1),\n",
    "            nn.Sigmoid()\n",
    "        )\n",
    "    \n",
    "    def forward(self, x):\n",
    "        out = self.model(x.view(x.size(0), input_size))\n",
    "        out = out.view(out.size(0), -1)\n",
    "        return out"
   ]
  },
  {
   "cell_type": "code",
   "execution_count": 45,
   "metadata": {},
   "outputs": [],
   "source": [
    "class Generator(nn.Module):\n",
    "    def __init__(self):\n",
    "        super().__init__()\n",
    "        self.model = nn.Sequential(\n",
    "            nn.Linear(input_size, 512),\n",
    "            nn.LeakyReLU(0.2, inplace=True),\n",
    "            nn.Linear(512, 1024),\n",
    "            nn.LeakyReLU(0.2, inplace=True),\n",
    "            nn.Linear(1024, 2048),\n",
    "            nn.LeakyReLU(0.2, inplace=True),\n",
    "            nn.Linear(2048, input_size),\n",
    "            nn.Tanh()\n",
    "        )\n",
    "    \n",
    "    def forward(self, x):\n",
    "        x = x.view(x.size(0), input_size)\n",
    "        out = self.model(x)\n",
    "        return out"
   ]
  },
  {
   "cell_type": "code",
   "execution_count": 46,
   "metadata": {},
   "outputs": [],
   "source": [
    "discriminator = Discriminator()\n",
    "generator = Generator()"
   ]
  },
  {
   "cell_type": "code",
   "execution_count": 47,
   "metadata": {},
   "outputs": [],
   "source": [
    "criterion = nn.BCELoss() #BCE standing for Binary Cross Entropy\n",
    "lr = 0.0002\n",
    "d_optimizer = torch.optim.Adam(discriminator.parameters(), lr=lr)\n",
    "g_optimizer = torch.optim.Adam(generator.parameters(), lr=lr)"
   ]
  },
  {
   "cell_type": "code",
   "execution_count": 48,
   "metadata": {},
   "outputs": [],
   "source": [
    "def train_discriminator(discriminator, images, real_labels, fake_images, fake_labels):\n",
    "    \n",
    "    discriminator.zero_grad()\n",
    "    outputs = discriminator(images)\n",
    "    real_loss = criterion(outputs, real_labels)\n",
    "    real_score = outputs\n",
    "    \n",
    "    outputs = discriminator(fake_images)\n",
    "    fake_loss = criterion(outputs, fake_labels)\n",
    "    fake_score = outputs\n",
    "\n",
    "    d_loss = real_loss + fake_loss\n",
    "    d_loss.backward()\n",
    "    d_optimizer.step()\n",
    "    return d_loss, real_score, fake_score"
   ]
  },
  {
   "cell_type": "code",
   "execution_count": 49,
   "metadata": {},
   "outputs": [],
   "source": [
    "def train_generator(generator, discriminator_outputs, real_labels):\n",
    "    generator.zero_grad()\n",
    "    g_loss = criterion(discriminator_outputs, real_labels)\n",
    "    g_loss.backward()\n",
    "    g_optimizer.step()\n",
    "    return g_loss"
   ]
  },
  {
   "cell_type": "code",
   "execution_count": 50,
   "metadata": {},
   "outputs": [],
   "source": [
    "train_dataset_paintings = torch.from_numpy(monnet_images)\n",
    "train_loader_paintings = torch.utils.data.DataLoader(train_dataset_paintings, batch_size=50, shuffle=True)\n",
    "train_iterator_paintings = iter(train_loader_paintings)\n",
    "\n",
    "train_dataset_photos = torch.from_numpy(photo_images)\n",
    "train_loader_photos = torch.utils.data.DataLoader(train_dataset_photos, batch_size=50, shuffle=True)\n",
    "train_iterator_photos = iter(train_loader_photos)"
   ]
  },
  {
   "cell_type": "code",
   "execution_count": 51,
   "metadata": {},
   "outputs": [
    {
     "name": "stdout",
     "output_type": "stream",
     "text": [
      "Epoch [1/50], Step[6/6], d_loss: 1.6412, g_loss: 1.3094, D(x): 0.81, D(G(z)): 0.75, time 0.12 min\n",
      "Epoch [2/50], Step[6/6], d_loss: 1.4540, g_loss: 0.5678, D(x): 0.57, D(G(z)): 0.59, time 0.24 min\n",
      "Epoch [3/50], Step[6/6], d_loss: 0.5489, g_loss: 1.5091, D(x): 0.92, D(G(z)): 0.37, time 0.35 min\n",
      "Epoch [4/50], Step[6/6], d_loss: 1.0336, g_loss: 2.6366, D(x): 0.86, D(G(z)): 0.57, time 0.47 min\n",
      "Epoch [5/50], Step[6/6], d_loss: 1.2822, g_loss: 2.3654, D(x): 0.61, D(G(z)): 0.52, time 0.59 min\n",
      "Epoch [6/50], Step[6/6], d_loss: 1.7572, g_loss: 2.9861, D(x): 0.21, D(G(z)): 0.14, time 0.71 min\n",
      "Epoch [7/50], Step[6/6], d_loss: 0.1665, g_loss: 7.2404, D(x): 0.86, D(G(z)): 0.01, time 0.83 min\n",
      "Epoch [8/50], Step[6/6], d_loss: 0.0237, g_loss: 5.6943, D(x): 0.99, D(G(z)): 0.02, time 0.95 min\n",
      "Epoch [9/50], Step[6/6], d_loss: 0.9237, g_loss: 6.9640, D(x): 0.44, D(G(z)): 0.01, time 1.07 min\n",
      "Epoch [10/50], Step[6/6], d_loss: 0.0545, g_loss: 8.4816, D(x): 0.95, D(G(z)): 0.01, time 1.18 min\n",
      "Epoch [11/50], Step[6/6], d_loss: 1.2580, g_loss: 1.8590, D(x): 0.36, D(G(z)): 0.12, time 1.30 min\n",
      "Epoch [12/50], Step[6/6], d_loss: 0.3281, g_loss: 7.1818, D(x): 0.74, D(G(z)): 0.01, time 1.42 min\n",
      "Epoch [13/50], Step[6/6], d_loss: 0.0428, g_loss: 7.0521, D(x): 1.00, D(G(z)): 0.04, time 1.55 min\n",
      "Epoch [14/50], Step[6/6], d_loss: 0.0025, g_loss: 11.0243, D(x): 1.00, D(G(z)): 0.00, time 1.68 min\n",
      "Epoch [15/50], Step[6/6], d_loss: 0.0075, g_loss: 7.7944, D(x): 1.00, D(G(z)): 0.01, time 1.80 min\n",
      "Epoch [16/50], Step[6/6], d_loss: 0.0128, g_loss: 10.6136, D(x): 1.00, D(G(z)): 0.01, time 1.92 min\n",
      "Epoch [17/50], Step[6/6], d_loss: 0.0718, g_loss: 11.6818, D(x): 1.00, D(G(z)): 0.06, time 2.03 min\n",
      "Epoch [18/50], Step[6/6], d_loss: 0.1284, g_loss: 12.8771, D(x): 0.89, D(G(z)): 0.00, time 2.15 min\n",
      "Epoch [19/50], Step[6/6], d_loss: 0.0150, g_loss: 11.7539, D(x): 0.99, D(G(z)): 0.00, time 2.27 min\n",
      "Epoch [20/50], Step[6/6], d_loss: 0.0053, g_loss: 14.3237, D(x): 0.99, D(G(z)): 0.00, time 2.39 min\n",
      "Epoch [21/50], Step[6/6], d_loss: 0.1281, g_loss: 10.0621, D(x): 0.99, D(G(z)): 0.09, time 2.50 min\n",
      "Epoch [22/50], Step[6/6], d_loss: 5.2598, g_loss: 9.1246, D(x): 0.02, D(G(z)): 0.06, time 2.61 min\n",
      "Epoch [23/50], Step[6/6], d_loss: 0.0002, g_loss: 16.6744, D(x): 1.00, D(G(z)): 0.00, time 2.73 min\n",
      "Epoch [24/50], Step[6/6], d_loss: 0.0001, g_loss: 17.6098, D(x): 1.00, D(G(z)): 0.00, time 2.84 min\n",
      "Epoch [25/50], Step[6/6], d_loss: 0.0001, g_loss: 13.4885, D(x): 1.00, D(G(z)): 0.00, time 2.96 min\n",
      "Epoch [26/50], Step[6/6], d_loss: 0.0003, g_loss: 10.1753, D(x): 1.00, D(G(z)): 0.00, time 3.07 min\n",
      "Epoch [27/50], Step[6/6], d_loss: 0.0012, g_loss: 7.6303, D(x): 1.00, D(G(z)): 0.00, time 3.19 min\n",
      "Epoch [28/50], Step[6/6], d_loss: 0.0011, g_loss: 8.0412, D(x): 1.00, D(G(z)): 0.00, time 3.30 min\n",
      "Epoch [29/50], Step[6/6], d_loss: 0.0020, g_loss: 8.2540, D(x): 1.00, D(G(z)): 0.00, time 3.42 min\n",
      "Epoch [30/50], Step[6/6], d_loss: 0.0096, g_loss: 7.0884, D(x): 1.00, D(G(z)): 0.01, time 3.53 min\n",
      "Epoch [31/50], Step[6/6], d_loss: 0.0012, g_loss: 12.9815, D(x): 1.00, D(G(z)): 0.00, time 3.65 min\n",
      "Epoch [32/50], Step[6/6], d_loss: 0.0016, g_loss: 26.9494, D(x): 1.00, D(G(z)): 0.00, time 3.76 min\n",
      "Epoch [33/50], Step[6/6], d_loss: 0.0031, g_loss: 15.1595, D(x): 1.00, D(G(z)): 0.00, time 3.88 min\n",
      "Epoch [34/50], Step[6/6], d_loss: 5.0077, g_loss: 13.5794, D(x): 0.93, D(G(z)): 0.98, time 4.00 min\n",
      "Epoch [35/50], Step[6/6], d_loss: 0.3447, g_loss: 7.0025, D(x): 1.00, D(G(z)): 0.23, time 4.11 min\n",
      "Epoch [36/50], Step[6/6], d_loss: 0.0070, g_loss: 26.6023, D(x): 0.99, D(G(z)): 0.00, time 4.22 min\n",
      "Epoch [37/50], Step[6/6], d_loss: 0.0092, g_loss: 35.6045, D(x): 0.99, D(G(z)): 0.00, time 4.34 min\n",
      "Epoch [38/50], Step[6/6], d_loss: 0.0189, g_loss: 40.4405, D(x): 0.98, D(G(z)): 0.00, time 4.46 min\n",
      "Epoch [39/50], Step[6/6], d_loss: 0.0102, g_loss: 37.8748, D(x): 0.99, D(G(z)): 0.00, time 4.59 min\n",
      "Epoch [40/50], Step[6/6], d_loss: 0.0023, g_loss: 36.7163, D(x): 1.00, D(G(z)): 0.00, time 4.72 min\n",
      "Epoch [41/50], Step[6/6], d_loss: 0.0016, g_loss: 35.0588, D(x): 1.00, D(G(z)): 0.00, time 4.83 min\n",
      "Epoch [42/50], Step[6/6], d_loss: 0.0009, g_loss: 34.5972, D(x): 1.00, D(G(z)): 0.00, time 4.95 min\n",
      "Epoch [43/50], Step[6/6], d_loss: 0.0004, g_loss: 34.0612, D(x): 1.00, D(G(z)): 0.00, time 5.07 min\n",
      "Epoch [44/50], Step[6/6], d_loss: 0.0004, g_loss: 32.5243, D(x): 1.00, D(G(z)): 0.00, time 5.18 min\n",
      "Epoch [45/50], Step[6/6], d_loss: 0.0007, g_loss: 32.6590, D(x): 1.00, D(G(z)): 0.00, time 5.30 min\n",
      "Epoch [46/50], Step[6/6], d_loss: 0.0006, g_loss: 32.3373, D(x): 1.00, D(G(z)): 0.00, time 5.41 min\n",
      "Epoch [47/50], Step[6/6], d_loss: 0.0009, g_loss: 29.6233, D(x): 1.00, D(G(z)): 0.00, time 5.53 min\n",
      "Epoch [48/50], Step[6/6], d_loss: 0.0004, g_loss: 28.3485, D(x): 1.00, D(G(z)): 0.00, time 5.65 min\n",
      "Epoch [49/50], Step[6/6], d_loss: 0.0004, g_loss: 27.0781, D(x): 1.00, D(G(z)): 0.00, time 5.76 min\n",
      "Epoch [50/50], Step[6/6], d_loss: 0.0004, g_loss: 26.4828, D(x): 1.00, D(G(z)): 0.00, time 5.88 min\n"
     ]
    }
   ],
   "source": [
    "import math\n",
    "import itertools\n",
    "import time\n",
    "\n",
    "# Set number of epochs and initialize figure counter\n",
    "num_epochs = 50\n",
    "num_batches = len(train_loader_paintings)\n",
    "\n",
    "# Set counter\n",
    "num_fig = 0\n",
    "\n",
    "# Start timer\n",
    "t0 = time.time()\n",
    "\n",
    "# Start training\n",
    "for epoch in range(num_epochs):  \n",
    "    for n, (paintings, photos) in enumerate(zip(train_loader_paintings,train_loader_photos)):\n",
    "        ones = torch.ones(paintings.size(0),1)\n",
    "        \n",
    "        fake_paintings = generator.forward(photos.float())\n",
    "        zeros = torch.zeros(photos.size(0),1)\n",
    "        \n",
    "        d_loss, real_score, fake_score = train_discriminator(discriminator, paintings.float(), ones, fake_paintings.float(), zeros)\n",
    "        \n",
    "        fake_paintings = generator.forward(photos.float())\n",
    "        outputs = discriminator.forward(fake_paintings.float())\n",
    "        g_loss = train_generator(generator, outputs, ones)\n",
    "        \n",
    "    print('Epoch [%d/%d], Step[%d/%d], d_loss: %.4f, g_loss: %.4f, ' \n",
    "              'D(x): %.2f, D(G(z)): %.2f, time %.2f min' \n",
    "              %(epoch + 1, num_epochs, n+1, num_batches, d_loss.detach().numpy(), g_loss.detach().numpy(),\n",
    "                real_score.detach().numpy().mean(), fake_score.detach().numpy().mean(), (time.time()-t0)/60))\n",
    "        \n",
    "        \n",
    "    #display_painting(fake_paintings[0].detach().numpy().reshape(56,56,3).astype('float32'))\n",
    "    #display_painting(photos[0].detach().numpy().reshape(56,56,3).astype('float32'))\n",
    "      "
   ]
  },
  {
   "cell_type": "markdown",
   "metadata": {},
   "source": [
    "\n",
    "        \n",
    "        \n",
    "        \n",
    "        \n",
    "        \n",
    "         # Every half epoch generates pictures with to generator to monitor training\n",
    "        if (n+1) % int(num_batches/2) == 0:\n",
    "            # generate pictures\n",
    "            test_paintings = generator.predict(test_photos)\n",
    "            \n",
    "            # plot them\n",
    "            for k in range(num_test_samples):\n",
    "                i = k//4\n",
    "                j = k%4\n",
    "                ax[i,j].cla()\n",
    "                ax[i,j].imshow(test_photos[k,:].data.cpu().numpy(), cmap='Greys')\n",
    "            display.clear_output(wait=True)\n",
    "            display.display(plt.gcf())\n",
    "        \n",
    "       "
   ]
  },
  {
   "cell_type": "code",
   "execution_count": null,
   "metadata": {},
   "outputs": [],
   "source": []
  }
 ],
 "metadata": {
  "kernelspec": {
   "display_name": "Python 3",
   "language": "python",
   "name": "python3"
  },
  "language_info": {
   "codemirror_mode": {
    "name": "ipython",
    "version": 3
   },
   "file_extension": ".py",
   "mimetype": "text/x-python",
   "name": "python",
   "nbconvert_exporter": "python",
   "pygments_lexer": "ipython3",
   "version": "3.8.3"
  }
 },
 "nbformat": 4,
 "nbformat_minor": 4
}
